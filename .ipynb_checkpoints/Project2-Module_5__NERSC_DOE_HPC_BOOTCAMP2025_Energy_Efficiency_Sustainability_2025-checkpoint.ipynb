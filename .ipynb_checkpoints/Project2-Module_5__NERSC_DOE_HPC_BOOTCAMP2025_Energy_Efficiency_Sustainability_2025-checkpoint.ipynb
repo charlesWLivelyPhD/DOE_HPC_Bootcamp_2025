{
 "cells": [
  {
   "cell_type": "markdown",
   "id": "c3f469de",
   "metadata": {},
   "source": [
    "![NERSC Logo](https://noirlab.edu/public/media/archives/logos/original_trans/logo087.png)\n",
    "## National Energy Research Scientific Computing Center\n",
    "\n",
    "# Introduction to High Performance Computing Bootcamp - Argonne National Laboratory August 2025\n",
    "# Module 5: Exploring Energy Efficiency and Sustainability in HPC"
   ]
  },
  {
   "cell_type": "markdown",
   "id": "df237459",
   "metadata": {},
   "source": [
    "\n",
    "## 🎯 Learning Outcomes\n",
    "\n",
    "By the end of this project, you will be able to:\n",
    "\n",
    "- Analyze and compare energy consumption metrics of HPC systems using Python.\n",
    "- Interpret sustainability and efficiency metrics to assess the carbon footprint of supercomputing workloads.\n",
    "- Use data-driven methods to propose optimizations for greener computing environments.\n"
   ]
  },
  {
   "cell_type": "markdown",
   "id": "a393747c-db8c-4f0c-8bdb-ec6227c1af35",
   "metadata": {
    "noteable": {
     "cell_type": "markdown"
    }
   },
   "source": [
    "# HPC Design Challenge Assignment: Designing an Energy-Efficient HPC Center for TechVille HPC\n",
    "\n",
    "---\n",
    "\n",
    "**Objective**:  \n",
    "Your team has been approached by TechVille HPC, a cutting-edge start-up company, with a mission to build HPC centers that not only lead in computational capabilities but also champion the cause of energy justice and sustainability. Your task is to design an HPC center for TechVille HPC that aligns with these values, ensuring the center ranks within the top 20 on the Top500 list and the top 10 on the Green500 list.\n",
    "\n",
    "---\n",
    "\n",
    "**Instructions**:\n",
    "\n",
    "1. **HPC Center Size Determination**:\n",
    "   - Analyze the infrastructure requirements for an HPC center that aligns with energy justice and sustainability while housing a top-ranking machine.\n",
    "   - Estimate the amount of land needed, considering eco-friendly cooling systems, renewable power sources, and space for community engagement initiatives.\n",
    "\n",
    "2. **Machine Size & Specifications**:\n",
    "   - Determine the specifications required for a machine to rank within the top 20 on the Top500 list and top 10 on the Green500 list.\n",
    "   - Consider the computational power, memory, storage, and interconnects required, while emphasizing energy efficiency.\n",
    "\n",
    "3. **Application & Software Analysis**:\n",
    "   - Based on the Department of Energy's mission for advancing science with HPC, identify the types of applications that the HPC center should support.\n",
    "   - Analyze the programming languages and libraries that would be essential for these applications, emphasizing those that support energy-efficient computing.\n",
    "\n",
    "4. **Vendor & Technology Analysis**:\n",
    "   - Research various vendors in the HPC domain and analyze the green technologies they offer.\n",
    "   - Determine which vendors and technologies align best with the goals of energy justice and sustainability for TechVille HPC.\n",
    "\n",
    "5. **Recommendations**:\n",
    "   - Based on your analyses, recommend a comprehensive design for the HPC center, including land size, machine specifications, software ecosystem, and preferred vendors, all while emphasizing energy justice and sustainability.\n",
    "\n",
    "6. **Prepare Your Presentation**:\n",
    "   - Compile your findings and recommendations for your presentation "
   ]
  },
  {
   "cell_type": "markdown",
   "id": "943b77a6-7411-4c77-9445-4a5bbd82bcc1",
   "metadata": {
    "noteable": {
     "cell_type": "markdown"
    }
   },
   "source": [
    "## Section 1: Geographical Distribution and Correlation with Climate Change Indicators\n",
    "\n",
    "In this section, you want to consider appropriat factors related to geographical conditions and locations.  Specifcally, explore the geographical distribution of the Green500 and Top500 HPC systems and their correlation with climate change indicators.\n",
    "\n",
    "![HPC Systems](https://example.com/hpc_systems.jpg)\n",
    "\n",
    "### Research Questions\n",
    "\n",
    "1. What is the geographical distribution of the Green500 and Top500 HPC systems? Are there regions that have a higher concentration of these systems?\n",
    "2. How do the locations of these HPC systems correlate with climate change indicators such as temperature and precipitation patterns?\n",
    "3. Are there specific geographical locations that offer natural cooling advantages for HPC centers?\n",
    "\n",
    "### Recommended Readings:\n",
    "\n",
    "1. **Zwan, J.** (Oct 2022). Climate Change Threatens Supercomputings. Science.org. https://www.science.org/content/article/climate-change-threatens-supercomputers.\n",
    "\n",
    "2. **Frédéric Hourdin et al.** ,Toward machine-assisted tuning avoiding the underestimation of uncertainty in climate change projections.Sci. Adv.9,eadf2758(2023).DOI:10.1126/sciadv.adf2758\n",
    "\n",
    "3. **Dongarra, J., Deelman, E., Hey, T., Matsuoka, S., Sarakar, V., Bell, G., ... & Yelick, K.** (2023). Can the United States Maintain Its Leadership in High-Performance Computing?-A report from the ASCAC Subcommittee on American Competitiveness and Innovation to the ASCR Office. USDOE Office of Science (SC)(United States). https://www.osti.gov/servlets/purl/1989107\n",
    "\n",
    "These articles provide insights into the geographical distribution of various species and their correlation with climate change indicators, which can offer a perspective on the potential impacts of HPC systems on global climate patterns."
   ]
  },
  {
   "cell_type": "markdown",
   "id": "53faa205-50ca-47b7-8be0-43648fe892e9",
   "metadata": {
    "noteable": {
     "cell_type": "markdown"
    }
   },
   "source": [
    "## Section 2: Correlation with Low-Income Energy Affordability Data and Energy Efficiency Trends\n",
    "\n",
    "In this section, we will explore how the locations of these HPC systems correlate with low-income energy affordability data and the trend in their energy efficiency.\n",
    "\n",
    "![Energy Efficiency](https://example.com/energy_efficiency.jpg)\n",
    "\n",
    "### Research Questions to Consider\n",
    "\n",
    "3. How do the locations of these HPC systems correlate with low-income energy affordability data? Are these systems located in regions where energy is less affordable?\n",
    "\n",
    "4. What is the trend in energy efficiency of the Green500 and Top500 HPC systems over the years? Is there a significant improvement in energy efficiency?\n",
    "5. How do energy efficiency trends correlate with advancements in HPC hardware and software technologies?\n",
    "\n",
    "### Recommended Readings\n",
    "Based on the topic \"Correlation with Low-Income Energy Affordability Data and Energy Efficiency Trends,\" I've found the following open-access articles that might be relevant:\n",
    "\n",
    "### Recommended Readings:\n",
    "\n",
    "1. **Ghezlane Halhoul Merabet, M. Essaaidi, M. Haddou, Basheer Qolomany, Junaid Qadir, M. Anan, A. Al-Fuqaha, M. Abid, & D. Benhaddou** (2021). [Intelligent Building Control Systems for Thermal Comfort and Energy-Efficiency: A Systematic Review of Artificial Intelligence-Assisted Techniques](https://www.frontiersin.org/articles/10.3389/fenrg.2022.832189/pdf). *Journal of Renewable and Sustainable Energy Reviews*. [PDF Link](https://arxiv.org/pdf/2104.02214)\n",
    "\n",
    "2. **C. Koronen, Max Åhman, & L. Nilsson** (2019). [Data centres in future European energy systems—energy efficiency, integration and policy](https://www.frontiersin.org/articles/10.3389/fenrg.2022.832578/pdf). *Energy Efficiency*. [PDF Link](https://link.springer.com/content/pdf/10.1007/s12053-019-09833-8.pdf)\n",
    "\n",
    "3. **Min Li, Michael Yao-Ping Peng, Raima Nazar, Bosede Ngozi Adeleye, Meng Shang, & Muhammad Waqas** (2022). [How Does Energy Efficiency Mitigate Carbon Emissions Without Reducing Economic Growth in Post COVID-19 Era](https://www.frontiersin.org/articles/10.3389/fenrg.2022.832189/pdf). *Frontiers in Energy Research*. [PDF Link](https://www.frontiersin.org/articles/10.3389/fenrg.2022.832189/pdf)\n",
    "\n",
    "These articles provide insights into energy efficiency, its implications, and strategies for improvement, especially in the context of HPC systems."
   ]
  },
  {
   "cell_type": "markdown",
   "id": "971f188d-3497-4d5a-a93e-a6ec6b6944b8",
   "metadata": {
    "noteable": {
     "cell_type": "markdown"
    }
   },
   "source": [
    "## Section 3: Social Justice Implications and Strategies for Improving Energy Sustainability\n",
    "\n",
    "In this section, we will explore the social justice implications of the energy consumption of these HPC systems and potential strategies for improving their energy sustainability.\n",
    "\n",
    "![Social Justice](https://example.com/social_justice.jpg)\n",
    "\n",
    "### Research Questions to Consider\n",
    "\n",
    "5. What are the social justice implications of the energy consumption of these HPC systems? Are they contributing to energy inequality?\n",
    "\n",
    "6. What are the potential impacts of these HPC systems on local and global climate patterns?\n",
    "\n",
    "7. What strategies can be implemented to improve the energy sustainability of these HPC systems?\n",
    "8. How can HPC centers contribute to community engagement and education on energy sustainability?\n",
    "\n",
    "\n",
    "### Recommended Readings:\n",
    "\n",
    "1. **Vallarta-Serrano, S. I., Santoyo-Castelazo, E., Santoyo, E., García-Mandujano, E. O., & Vázquez-Sánchez, H.** (2023). [Integrated Sustainability Assessment Framework of Industry 4.0 from an Energy Systems Thinking Perspective: Bibliometric Analysis and Systematic Literature Review](https://dx.doi.org/10.3390/en16145440). *Energies, 16*(14).\n",
    "   - **Citation**: Vallarta-Serrano, S. I., Santoyo-Castelazo, E., Santoyo, E., García-Mandujano, E. O., & Vázquez-Sánchez, H. (2023). Integrated Sustainability Assessment Framework of Industry 4.0 from an Energy Systems Thinking Perspective: Bibliometric Analysis and Systematic Literature Review. Energies, 16(14).\n",
    "   - [PDF Link](https://www.mdpi.com/1996-1073/16/14/5440/pdf?version=1689653126)\n",
    "\n",
    "2. **Davydenko, L., Davydenko, N., Deja, A., Wiśnicki, B., & Dzhuguryan, T.** (2023). [Efficient Energy Management for the Smart Sustainable City Multifloor Manufacturing Clusters: A Formalization of the Water Supply System Operation Conditions Based on Monitoring Water Consumption Profiles](https://dx.doi.org/10.3390/en16114519). *Energies, 16*(11).\n",
    "   - **Citation**: Davydenko, L., Davydenko, N., Deja, A., Wiśnicki, B., & Dzhuguryan, T. (2023). Efficient Energy Management for the Smart Sustainable City Multifloor Manufacturing Clusters: A Formalization of the Water Supply System Operation Conditions Based on Monitoring Water Consumption Profiles. Energies, 16(11).\n",
    "   - [PDF Link](https://www.mdpi.com/1996-1073/16/11/4519/pdf?version=1686043641)\n",
    "\n",
    "3. **De Giovanni, P.** (2023). [Sustainability of the Metaverse: A Transition to Industry 5.0](https://dx.doi.org/10.3390/su15076079). *Sustainability, 15*(7).\n",
    "   - **Citation**: De Giovanni, P. (2023). Sustainability of the Metaverse: A Transition to Industry 5.0. Sustainability, 15(7).\n",
    "   - [PDF Link](https://www.mdpi.com/2071-1050/15/7/6079/pdf?version=1680265695)\n",
    "\n",
    "These articles provide insights into the social justice implications of energy consumption and strategies for improving energy sustainability in various sectors, which can offer a perspective on the potential impacts of HPC systems on global climate patterns and energy inequality."
   ]
  },
  {
   "cell_type": "markdown",
   "id": "cca66869",
   "metadata": {},
   "source": [
    "## 🔄 Additional Insights from Energy Efficiency Studies"
   ]
  },
  {
   "cell_type": "markdown",
   "id": "8f412a31-ebc9-4378-8f24-5ad6ba7aab5f",
   "metadata": {
    "noteable": {
     "cell_type": "markdown"
    }
   },
   "source": [
    "# Group Project Assignment: Energy Optimization Strategies for TechVille HPC's Emerging Technology Division\n",
    "\n",
    "---\n",
    "\n",
    "**Objective**:  \n",
    "TechVille HPC's Emerging Technology Division is at the forefront of innovation in the HPC domain. Your team's challenge is to delve deep into cutting-edge energy optimization strategies, both in software and hardware, that can be researched and potentially adopted by this division. The goal is to ensure that TechVille HPC not only remains a leader in computational capabilities but also pioneers sustainable and energy-efficient solutions in the HPC landscape.\n",
    "\n",
    "---\n",
    "\n",
    "**Guiding Instructions**:\n",
    "\n",
    "### **Section 1: Software-Based Code Optimization for Energy Efficiency**\n",
    "\n",
    "1. **Understanding Code Efficiency**:\n",
    "   - Analyze the implications of inefficient code on operational costs and environmental impact in HPC systems.\n",
    "   - Discuss the significance of code efficiency in HPC and its role in promoting energy justice.\n",
    "\n",
    "2. **Strategies for Code Efficiency**:\n",
    "   - Explore methods to improve code efficiency to reduce energy consumption in HPC systems.\n",
    "   - Implement and test various optimization strategies to improve code efficiency and measure the energy savings achieved.\n",
    "\n",
    "### **Section 2: Hardware-Based Energy Efficiency in Power Infrastructure**\n",
    "\n",
    "3. **Measuring Energy Efficiency**:\n",
    "   - Understand how energy efficiency is measured in power infrastructure for HPC systems.\n",
    "   - Analyze the distribution of resources globally and the challenges faced in certain regions.\n",
    "\n",
    "4. **Strategies for Infrastructure Efficiency**:\n",
    "   - Identify strategies to improve energy efficiency in power infrastructure for HPC systems.\n",
    "   - Discuss the implications of these strategies on energy justice and the broader HPC landscape.\n",
    "\n",
    "### **Section 3: Social Justice Implications and Strategies for Improving Energy Sustainability**\n",
    "\n",
    "5. **Understanding Social Justice Implications**:\n",
    "   - Analyze the social justice implications of the energy consumption of HPC systems.\n",
    "   - Discuss the potential impacts of HPC systems on climate patterns and their role in promoting or hindering energy justice.\n",
    "\n",
    "6. **Recommendations for Energy Sustainability**:\n",
    "   - Based on your analyses, recommend strategies to improve the energy sustainability of HPC systems.\n",
    "   - Discuss both software and hardware solutions that align with the principles of energy justice and the goals of TechVille HPC's Emerging Technology Division.\n",
    "\n",
    "Embrace this challenge to shape the future of HPC in a sustainable and just manner. Best of luck!"
   ]
  },
  {
   "cell_type": "markdown",
   "id": "ba85bbf6-58e9-4c7f-aa99-2c66c1ad29cf",
   "metadata": {
    "noteable": {
     "cell_type": "markdown"
    }
   },
   "source": [
    "## Section 1: Code Optimization for Energy Efficiency\n",
    "\n",
    "In this section, we will focus on how to optimize code for parallel processing, enabling efficient utilization of system resources. The importance of this topic lies in the fact that inefficient code can lead to excessive energy usage in HPC systems. This not only increases the operational costs but also contributes to the environmental impact of these systems.\n",
    "\n",
    "By improving code efficiency, we can significantly reduce the energy consumption of these systems. This is crucial in promoting a more sustainable use of computing resources and aligning with the principles of energy justice.\n",
    "\n",
    "Moreover, writing efficient code for parallel processing is a key skill in the field of HPC. It allows us to make the most out of the available system resources and achieve higher performance. Therefore, understanding the best practices for writing efficient code is essential for anyone working with HPC systems.\n",
    "\n",
    "![Code Optimization](https://example.com/code_optimization.jpg)\n",
    "\n",
    "### Research Questions\n",
    "\n",
    "1. How does inefficient code lead to excessive energy usage in HPC systems?\n",
    "2. How can we improve code efficiency to reduce energy consumption?\n",
    "3. What are some of the best practices for writing efficient code for parallel processing?\n",
    "\n",
    "### Recommended Readings\n",
    "\n",
    "\n",
    "1. **Tipu, A. J. S., Ó Conbhuí, P., & Howley, E.** (2022). [Artificial neural networks based predictions towards the auto-tuning and optimization of parallel IO bandwidth in HPC system](https://dx.doi.org/10.1007/s10586-022-03814-w). *Cluster Computing*. [PDF Link](https://link.springer.com/content/pdf/10.1007/s10586-022-03814-w.pdf)\n",
    "   \n",
    " \n",
    "2. **Younesi, S., Ahmadi, B., Ceylan, O., & Ozdemir, A.** (2022). [Optimum Parallel Processing Schemes to Improve the Computation Speed for Renewable Energy Allocation and Sizing Problems](https://dx.doi.org/10.3390/en15249301). *Energies*. [PDF Link](https://www.mdpi.com/1996-1073/15/24/9301/pdf?version=1670493597)\n",
    "   \n",
    "  \n",
    "\n",
    "3. **Wei, L., Ning, Z., Quan, L., Wang, A., & Gao, Y.** (2022). [Research on Parameter Matching of the Asymmetric Pump Potential Energy Recovery System Based on Multi-Core Parallel Optimization Method](https://dx.doi.org/10.3390/pr10112298). *Processes*. [PDF Link](https://www.mdpi.com/2227-9717/10/11/2298/pdf?version=1668420648)\n",
    " "
   ]
  },
  {
   "cell_type": "markdown",
   "id": "3080ce2c-f38f-4a6c-b075-8335f510c73b",
   "metadata": {
    "noteable": {
     "cell_type": "markdown"
    }
   },
   "source": [
    "## Section 2: Energy Efficiency in Power Infrastructure\n",
    "\n",
    "In this section, we will explore energy efficiency in our power infrastructure and how it is measured and improved. The importance of this topic lies in the fact that HPC systems consume substantial resources, including electricity and cooling infrastructure. These resources are not evenly distributed globally, and their availability can be limited in certain regions.\n",
    "\n",
    "By understanding how energy efficiency is measured in our power infrastructure, we can identify areas for improvement and implement strategies to increase efficiency. This not only reduces the operational costs but also promotes a more sustainable use of resources.\n",
    "\n",
    "Furthermore, improving energy efficiency in power infrastructure contributes to energy justice by ensuring that these resources are used in a way that is fair and sustainable. Therefore, understanding the strategies for improving energy efficiency is crucial for anyone working with HPC systems.\n",
    "\n",
    "![Power Infrastructure](https://example.com/power_infrastructure.jpg)\n",
    "\n",
    "### Research Questions\n",
    "\n",
    "4. How is energy efficiency measured in our power infrastructure?\n",
    "\n",
    "5. What are some of the strategies for improving energy efficiency in power infrastructure?\n",
    "\n",
    "6. How does improving energy efficiency in power infrastructure contribute to energy justice and reduce the environmental impact of HPC systems?\n",
    "\n",
    "### Recommended Readings\n",
    "\n",
    "1. **Schöne, R., Ilsche, T., Bielert, M., Gocht-Zech, A., & Hackenberg, D.** (2019). [Energy Efficiency Features of the Intel Skylake-SP Processor and Their Impact on Performance](https://dx.doi.org/10.1109/HPCS48598.2019.9188239). *Cluster Computing*. [PDF Link](http://arxiv.org/pdf/1905.12468)\n",
    "   \n",
    "  \n",
    "2. **Sadiq, M., Ali, S. W., Terriche, Y., Mutarraf, M. U., Hassan, M., Hamid, K., Ali, Z., Sze, J., Su, C., & Guerrero, J.** (2021). [Future Greener Seaports: A Review of New Infrastructure, Challenges, and Energy Efficiency Measures](https://dx.doi.org/10.1109/ACCESS.2021.3081430). *IEEE Access*. [PDF Link](https://ieeexplore.ieee.org/ielx7/6287639/9312710/09433559.pdf)\n",
    "   \n",
    " \n",
    "3. **Borghesi, A., Bartolini, A., Milano, M., & Benini, L.** (2018). [Pricing schemes for energy-efficient HPC systems: Design and exploration](https://dx.doi.org/10.1177/1094342018814593). *The International Journal of High Performance Computing Applications*. [PDF Link](https://arxiv.org/pdf/1806.05135)\n",
    "   \n",
    "These articles provide insights into various aspects of energy efficiency in power infrastructure for HPC systems, including strategies for improving energy efficiency, the impact of energy efficiency features on performance, and the economic viability of performance scaling solutions."
   ]
  },
  {
   "cell_type": "markdown",
   "id": "b5511f4e-2bdb-4e6c-8f1a-80a590dd5ab3",
   "metadata": {
    "noteable": {
     "cell_type": "markdown"
    }
   },
   "source": [
    "## Section 3: Social Justice Implications and Strategies for Improving Energy Sustainability\n",
    "\n",
    "In this section, we will delve into the social justice implications of the energy consumption of HPC systems and potential strategies for improving their energy sustainability. The importance of this topic lies in the fact that the energy consumption of these systems can contribute to energy inequality, particularly in regions where resources are limited.\n",
    "\n",
    "By understanding the social justice implications of the energy consumption of these systems, we can identify ways to promote energy justice and reduce the environmental impact of these systems. This is crucial in promoting a more sustainable use of computing resources and aligning with the principles of energy justice.\n",
    "\n",
    "Furthermore, by exploring potential strategies for improving the energy sustainability of these systems, we can contribute to the development of more sustainable HPC systems. Therefore, understanding these strategies is essential for anyone working with HPC systems.\n",
    "\n",
    "![Social Justice](https://example.com/social_justice.jpg)\n",
    "\n",
    "### Research Questions\n",
    "\n",
    "7. What are the social justice implications of the energy consumption of these HPC systems? Are they contributing to energy inequality?\n",
    "\n",
    "8. What are the potential impacts of these HPC systems on local and global climate patterns?\n",
    "\n",
    "9. What strategies can be implemented to improve the energy sustainability of these HPC systems?\n",
    "\n",
    "### Recommended Readings\n",
    "\n",
    "\n",
    "1. **Givens, J. E., Padowski, J., Guzman, C., Malek, K., Witinok-Huber, R., Cosens, B., Briscoe, M. D., Boll, J., & Adam, J.** (2018). [Incorporating Social System Dynamics in the Columbia River Basin: Food-Energy-Water Resilience and Sustainability Modeling in the Yakima River Basin](https://dx.doi.org/10.3389/fenvs.2018.00104). *Frontiers in Environmental Science*. [PDF Link](https://www.frontiersin.org/articles/10.3389/fenvs.2018.00104/pdf)\n",
    "   \n",
    " \n",
    "\n",
    "2. **Romero‑Lankao, P., & Gnatz, D. M.** (2019). [Risk Inequality and the Food-Energy-Water (FEW) Nexus: A Study of 43 City Adaptation Plans](https://dx.doi.org/10.3389/fsoc.2019.00031). *Frontiers in Sociology*. [PDF Link](https://www.frontiersin.org/articles/10.3389/fsoc.2019.00031/pdf)\n",
    "   \n",
    "  \n",
    "\n",
    "3. **Axon, S., & Morrissey, J.** (2020). [Just energy transitions? Social inequities, vulnerabilities and unintended consequences](https://dx.doi.org/10.5334/bc.14). *Buildings and Cities*. [PDF Link](http://journal-buildingscities.org/articles/10.5334/bc.14/galley/46/download/)\n",
    " \n",
    "\n",
    "These articles provide insights into various aspects of social justice implications and strategies for improving energy sustainability in HPC systems, including the impacts of energy consumption on social dynamics, the role of cities in addressing these challenges, and the unintended consequences of energy transitions."
   ]
  }
 ],
 "metadata": {
  "kernelspec": {
   "display_name": "training-pyhpc-2025",
   "language": "python",
   "name": "pyhpc-2025"
  },
  "language_info": {
   "codemirror_mode": {
    "name": "ipython",
    "version": 3
   },
   "file_extension": ".py",
   "mimetype": "text/x-python",
   "name": "python",
   "nbconvert_exporter": "python",
   "pygments_lexer": "ipython3",
   "version": "3.13.5"
  }
 },
 "nbformat": 4,
 "nbformat_minor": 5
}
